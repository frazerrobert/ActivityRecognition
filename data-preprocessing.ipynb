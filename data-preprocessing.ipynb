{
 "cells": [
  {
   "cell_type": "code",
   "execution_count": 1,
   "id": "initial_id",
   "metadata": {
    "collapsed": true,
    "ExecuteTime": {
     "end_time": "2024-12-06T21:17:30.624330Z",
     "start_time": "2024-12-06T21:17:29.777633Z"
    }
   },
   "outputs": [],
   "source": [
    "import os\n",
    "import numpy as np\n",
    "import pandas as pd\n",
    "from scipy.fft import fft\n",
    "from sklearn.preprocessing import MinMaxScaler\n",
    "import pickle"
   ]
  },
  {
   "cell_type": "code",
   "outputs": [],
   "source": [
    "CHUNK_INTERVAL = 2500  # ms\n",
    "SAMPLING_RATE = 144\n",
    "DATASET_DIR = \"./dataset/\"\n",
    "BASE_PATH = \"~/Downloads/heterogeneity+activity+recognition/Activity recognition exp\""
   ],
   "metadata": {
    "collapsed": false,
    "ExecuteTime": {
     "end_time": "2024-12-06T21:17:30.628016Z",
     "start_time": "2024-12-06T21:17:30.625666Z"
    }
   },
   "id": "e14faf1e840449a3",
   "execution_count": 2
  },
  {
   "cell_type": "code",
   "outputs": [],
   "source": [
    "PHONE_ACCELEROMETER_FILE = os.path.join(BASE_PATH, \"Phones_accelerometer.csv\")\n",
    "PHONE_GYRO_FILE = os.path.join(BASE_PATH, \"Phones_gyroscope.csv\")"
   ],
   "metadata": {
    "collapsed": false,
    "ExecuteTime": {
     "end_time": "2024-12-06T21:17:30.630083Z",
     "start_time": "2024-12-06T21:17:30.628529Z"
    }
   },
   "id": "13a41e3d251f3e8f",
   "execution_count": 3
  },
  {
   "cell_type": "code",
   "outputs": [],
   "source": [
    "def load_data():\n",
    "    \"\"\"Load accelerometer and gyroscope data.\"\"\"\n",
    "    phone_accelerometer = pd.read_csv(PHONE_ACCELEROMETER_FILE)\n",
    "    phone_gyro = pd.read_csv(PHONE_GYRO_FILE)\n",
    "    return phone_accelerometer, phone_gyro\n",
    "\n",
    "\n",
    "def align_data(df, time_column=\"Arrival_Time\"):\n",
    "    \"\"\"Align data based on timestamps.\"\"\"\n",
    "    return df.sort_values(by=time_column).reset_index(drop=True)\n",
    "\n",
    "\n",
    "def chunk_data(df, time_column=\"Arrival_Time\", interval_ms=CHUNK_INTERVAL):\n",
    "    \"\"\"Chunk data into fixed time intervals.\"\"\"\n",
    "    bins = np.arange(df[time_column].min(), df[time_column].max(), interval_ms)\n",
    "    df[\"Time_Chunk\"] = pd.cut(df[time_column], bins=bins, labels=False)\n",
    "    return df"
   ],
   "metadata": {
    "collapsed": false,
    "ExecuteTime": {
     "end_time": "2024-12-06T21:17:30.632887Z",
     "start_time": "2024-12-06T21:17:30.630540Z"
    }
   },
   "id": "a9dc741930b330b3",
   "execution_count": 4
  },
  {
   "cell_type": "code",
   "outputs": [],
   "source": [
    "def apply_fourier_transform(df, sensor_name, chunk_column=\"Time_Chunk\", feature_columns=None, target_f=SAMPLING_RATE):\n",
    "    \"\"\"Apply Fourier Transform to sensor data.\"\"\"\n",
    "    if feature_columns is None:\n",
    "        feature_columns = [\"x\", \"y\", \"z\"]\n",
    "\n",
    "    chunked_data = []\n",
    "    errors = 0\n",
    "\n",
    "    for chunk_id, group in df.groupby(chunk_column):\n",
    "        try:\n",
    "            chunk_fft = {f\"{sensor_name}_Chunk_ID\": chunk_id}\n",
    "            for col in feature_columns:\n",
    "                fft_result = fft(group[col].values)\n",
    "                magnitude = np.abs(fft_result)[:len(fft_result) // 2]\n",
    "                phase = np.angle(fft_result)[:len(fft_result) // 2]\n",
    "\n",
    "                if target_f:\n",
    "                    step = max(1, len(magnitude) // target_f)\n",
    "                    indices = np.arange(0, len(magnitude), step)[:target_f]\n",
    "                    magnitude, phase = magnitude[indices], phase[indices]\n",
    "\n",
    "                chunk_fft[f\"{sensor_name}_{col}_fft_magnitude\"] = magnitude.tolist()\n",
    "                chunk_fft[f\"{sensor_name}_{col}_fft_phase\"] = phase.tolist()\n",
    "\n",
    "            chunk_fft[f\"{sensor_name}_gt\"] = group[['gt_acc', 'gt_gyro']].stack().value_counts().idxmax()\n",
    "            chunked_data.append(chunk_fft)\n",
    "        except Exception as e:\n",
    "            errors += 1\n",
    "\n",
    "    print(f\"FFT Processing Errors: {errors}\")\n",
    "    return pd.DataFrame(chunked_data)\n",
    "\n",
    "\n",
    "def pad_sequence(sequence, target_length):\n",
    "    \"\"\"Pad sequences to the target length.\"\"\"\n",
    "    return np.pad(sequence, (0, target_length - len(sequence)), mode=\"constant\")\n",
    "\n",
    "\n",
    "def normalize_and_save(df, axes, output_file, prefix=\"phone\"):\n",
    "    \"\"\"Normalize data, combine into tensors, and save to file.\"\"\"\n",
    "    scaler = MinMaxScaler()\n",
    "\n",
    "    # Precompute the maximum sequence length across all axes\n",
    "    max_length = max(\n",
    "        max(len(seq) for seq in df[f\"{prefix}_{axis}_fft_magnitude\"])\n",
    "        for _, axes_data in axes.items()\n",
    "        for axis in axes_data\n",
    "    )\n",
    "\n",
    "    # Iterate over each sensor to process its axes\n",
    "    for sensor, axes_data in axes.items():\n",
    "        padded_magnitudes = []\n",
    "        for axis in axes_data:\n",
    "            magnitude_col = f\"{prefix}_{axis}_fft_magnitude\"\n",
    "            padded_magnitudes.append(\n",
    "                np.stack(\n",
    "                    df[magnitude_col].apply(lambda seq: pad_sequence(seq, max_length)).to_numpy()\n",
    "                )\n",
    "            )\n",
    "\n",
    "        # Stack padded magnitudes into the correct shape: (num_samples, num_axes, max_length)\n",
    "        combined_magnitudes = np.stack(padded_magnitudes, axis=1)  # Stack along axis=1 for num_axes\n",
    "\n",
    "        # Normalize magnitudes\n",
    "        flattened_magnitudes = combined_magnitudes.reshape(-1, combined_magnitudes.shape[-1])  # Flatten for scaler\n",
    "        normalized_magnitudes = scaler.fit_transform(flattened_magnitudes).reshape(combined_magnitudes.shape)\n",
    "\n",
    "        # Save normalized data back to the dataframe\n",
    "        df[f\"{sensor}_data\"] = list(normalized_magnitudes)\n",
    "\n",
    "    # Select the sensor data columns and ground truth column for saving\n",
    "    sensor_data_cols = [f\"{s}_data\" for s in axes.keys()]\n",
    "    df = df[sensor_data_cols + [f\"{prefix}_gt\"]]\n",
    "    os.makedirs(DATASET_DIR, exist_ok=True)\n",
    "    pickle.dump(df, open(os.path.join(DATASET_DIR, output_file), \"wb\"))\n",
    "    print(f\"Data saved to {output_file}\")\n"
   ],
   "metadata": {
    "collapsed": false,
    "ExecuteTime": {
     "end_time": "2024-12-06T21:17:30.639395Z",
     "start_time": "2024-12-06T21:17:30.634129Z"
    }
   },
   "id": "82791a7830cc06cd",
   "execution_count": 5
  },
  {
   "cell_type": "code",
   "outputs": [],
   "source": [
    "# Load and preprocess data\n",
    "phone_accelerometer, phone_gyro = load_data()\n",
    "phone_data = pd.merge(phone_accelerometer, phone_gyro, on='Arrival_Time', how='inner', suffixes=('_acc', '_gyro'))\n",
    "filtered_data = phone_data[['x_acc', 'y_acc', 'z_acc', 'gt_acc', 'x_gyro', 'y_gyro', 'z_gyro', 'gt_gyro', \"Arrival_Time\"]]"
   ],
   "metadata": {
    "collapsed": false,
    "ExecuteTime": {
     "end_time": "2024-12-06T21:17:50.735794Z",
     "start_time": "2024-12-06T21:17:30.639896Z"
    }
   },
   "id": "afce0b5f693c2311",
   "execution_count": 6
  },
  {
   "cell_type": "code",
   "outputs": [],
   "source": [
    "aligned_data = align_data(filtered_data)\n",
    "chunked_data = chunk_data(aligned_data)"
   ],
   "metadata": {
    "collapsed": false,
    "ExecuteTime": {
     "end_time": "2024-12-06T21:17:53.436967Z",
     "start_time": "2024-12-06T21:17:50.737900Z"
    }
   },
   "id": "2223db6eb2388510",
   "execution_count": 7
  },
  {
   "cell_type": "code",
   "outputs": [
    {
     "name": "stdout",
     "output_type": "stream",
     "text": [
      "FFT Processing Errors: 1056\n"
     ]
    }
   ],
   "source": [
    "# Apply Fourier Transform\n",
    "phone_acc_fft = apply_fourier_transform(chunked_data, \"phone\", feature_columns=['x_acc', 'y_acc', 'z_acc', 'x_gyro', 'y_gyro', 'z_gyro'])"
   ],
   "metadata": {
    "collapsed": false,
    "ExecuteTime": {
     "end_time": "2024-12-06T21:18:02.353837Z",
     "start_time": "2024-12-06T21:17:53.437945Z"
    }
   },
   "id": "bc6f44a2e96005da",
   "execution_count": 8
  },
  {
   "cell_type": "code",
   "outputs": [
    {
     "name": "stdout",
     "output_type": "stream",
     "text": [
      "Data saved to phone_data.pkl\n"
     ]
    }
   ],
   "source": [
    "# Normalize and save\n",
    "axes = {\n",
    "    \"accelerometer\": [\"x_acc\", \"y_acc\", \"z_acc\"],\n",
    "    \"gyro\": [\"x_gyro\", \"y_gyro\", \"z_gyro\"]\n",
    "}\n",
    "normalize_and_save(phone_acc_fft, axes=axes, output_file=\"phone_data.pkl\")"
   ],
   "metadata": {
    "collapsed": false,
    "ExecuteTime": {
     "end_time": "2024-12-06T21:18:02.801160Z",
     "start_time": "2024-12-06T21:18:02.354644Z"
    }
   },
   "id": "eeab01d32d447d0f",
   "execution_count": 9
  },
  {
   "cell_type": "code",
   "outputs": [
    {
     "name": "stdout",
     "output_type": "stream",
     "text": [
      "<class 'pandas.core.frame.DataFrame'>\n",
      "RangeIndex: 6461 entries, 0 to 6460\n",
      "Data columns (total 3 columns):\n",
      " #   Column              Non-Null Count  Dtype \n",
      "---  ------              --------------  ----- \n",
      " 0   accelerometer_data  6461 non-null   object\n",
      " 1   gyro_data           6461 non-null   object\n",
      " 2   phone_gt            6461 non-null   object\n",
      "dtypes: object(3)\n",
      "memory usage: 151.6+ KB\n",
      "None\n",
      "\n",
      "df shape: (6461, 3)\n",
      "accelerometer_data shape: (3, 144)\n",
      "gyro_data shape: (3, 144)\n"
     ]
    }
   ],
   "source": [
    "data = pd.read_pickle(\"./dataset/phone_data.pkl\")\n",
    "print(data.info())\n",
    "print(f\"\\ndf shape: {data.shape}\")\n",
    "print(f\"accelerometer_data shape: {data['accelerometer_data'].iloc[0].shape}\")\n",
    "print(f\"gyro_data shape: {data['gyro_data'].iloc[0].shape}\")"
   ],
   "metadata": {
    "collapsed": false,
    "ExecuteTime": {
     "end_time": "2024-12-06T21:18:02.829843Z",
     "start_time": "2024-12-06T21:18:02.801682Z"
    }
   },
   "id": "d168493abaa32f6e",
   "execution_count": 10
  }
 ],
 "metadata": {
  "kernelspec": {
   "display_name": "Python 3",
   "language": "python",
   "name": "python3"
  },
  "language_info": {
   "codemirror_mode": {
    "name": "ipython",
    "version": 2
   },
   "file_extension": ".py",
   "mimetype": "text/x-python",
   "name": "python",
   "nbconvert_exporter": "python",
   "pygments_lexer": "ipython2",
   "version": "2.7.6"
  }
 },
 "nbformat": 4,
 "nbformat_minor": 5
}
