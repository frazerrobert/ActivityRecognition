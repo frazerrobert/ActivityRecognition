{
 "cells": [
  {
   "cell_type": "markdown",
   "id": "b3df0290-ce69-4d97-a8d0-a3de0aabbd3d",
   "metadata": {},
   "source": [
    "# Activity Recognition Model\n"
   ]
  },
  {
   "cell_type": "code",
   "execution_count": 1,
   "id": "8e45b2fb-18bc-413e-98b4-a1c120e1504a",
   "metadata": {
    "ExecuteTime": {
     "end_time": "2024-12-06T20:44:08.963808Z",
     "start_time": "2024-12-06T20:44:07.218739Z"
    }
   },
   "outputs": [],
   "source": [
    "import pandas as pd\n",
    "import torch\n",
    "import torch.nn as nn\n",
    "from torch.utils.data import Dataset, DataLoader\n",
    "from sklearn.preprocessing import LabelEncoder\n",
    "from model import DeepSenseModel\n",
    "from tqdm import tqdm"
   ]
  },
  {
   "cell_type": "code",
   "execution_count": 2,
   "id": "1a4d6c4d-547b-4d5a-9580-205b26a3d402",
   "metadata": {},
   "outputs": [],
   "source": [
    "# Load and preprocess data\n",
    "def load_data(pickle_file_path):\n",
    "    df = pd.read_pickle(pickle_file_path)\n",
    "    df.rename(columns={\"phone_gt\": \"label\"}, inplace=True)\n",
    "\n",
    "    # Remove null bytes in sensor_data\n",
    "    df['acc_data'] = df['accelerometer_data'].apply(\n",
    "        lambda x: x.replace('\\x00', '') if isinstance(x, str) else x\n",
    "    )\n",
    "\n",
    "    df['gyro_data'] = df['gyro_data'].apply(\n",
    "        lambda x: x.replace('\\x00', '') if isinstance(x, str) else x\n",
    "    )\n",
    "\n",
    "    # Encode labels\n",
    "    label_encoder = LabelEncoder()\n",
    "    df['label'] = label_encoder.fit_transform(df['label'])\n",
    "\n",
    "    return df, label_encoder"
   ]
  },
  {
   "cell_type": "code",
   "execution_count": 3,
   "id": "ce554872-d83c-4b35-bc71-e651e4147777",
   "metadata": {},
   "outputs": [],
   "source": [
    "class SensorDataset(Dataset):\n",
    "    def __init__(self, dataframe):\n",
    "        self.labels = dataframe['label'].values\n",
    "        self.acc_data = dataframe['accelerometer_data'].values\n",
    "        self.gyro_data = dataframe['gyro_data'].values\n",
    "\n",
    "    def __len__(self):\n",
    "        return len(self.labels)\n",
    "\n",
    "    def __getitem__(self, idx):\n",
    "        acc_data = torch.tensor(self.acc_data[idx], dtype=torch.float32)\n",
    "        gyro_data = torch.tensor(self.gyro_data[idx], dtype=torch.float32)\n",
    "        label = torch.tensor(int(self.labels[idx]), dtype=torch.long)\n",
    "        return acc_data, gyro_data, label"
   ]
  },
  {
   "cell_type": "code",
   "execution_count": 6,
   "id": "e4184f45-ea9f-4bf8-bdfc-0e8673132fa0",
   "metadata": {},
   "outputs": [],
   "source": [
    "from sklearn.metrics import confusion_matrix, ConfusionMatrixDisplay\n",
    "import matplotlib.pyplot as plt\n",
    "from tqdm import tqdm\n",
    "\n",
    "\n",
    "def train_model(model, train_loader, test_loader, criterion, optimizer, scheduler, num_epochs, device):\n",
    "    model.train()\n",
    "    train_losses = []\n",
    "    val_losses = []\n",
    "\n",
    "    for epoch in tqdm(range(num_epochs), desc=\"Training Progress\"):\n",
    "        running_loss = 0.0\n",
    "        model.train()\n",
    "\n",
    "        # Training loop\n",
    "        for acc, gyro, labels in train_loader:\n",
    "            acc, gyro, labels = acc.to(device), gyro.to(device), labels.to(device)\n",
    "            optimizer.zero_grad()\n",
    "            outputs = model(acc, gyro)\n",
    "            loss = criterion(outputs, labels)\n",
    "            loss.backward()\n",
    "            optimizer.step()\n",
    "            running_loss += loss.item()\n",
    "\n",
    "        avg_train_loss = running_loss / len(train_loader)\n",
    "        train_losses.append(avg_train_loss)\n",
    "\n",
    "        # Validation loop\n",
    "        model.eval()\n",
    "        val_loss = 0.0\n",
    "        with torch.no_grad():\n",
    "            for acc, gyro, labels in test_loader:\n",
    "                acc, gyro, labels = acc.to(device), gyro.to(device), labels.to(device)\n",
    "                outputs = model(acc, gyro)\n",
    "                loss = criterion(outputs, labels)\n",
    "                val_loss += loss.item()\n",
    "\n",
    "        avg_val_loss = val_loss / len(test_loader)\n",
    "        val_losses.append(avg_val_loss)\n",
    "\n",
    "        if epoch + 1 % 20 == 0:\n",
    "            print(f\"Epoch {epoch+1}/{num_epochs}, Train Loss: {avg_train_loss:.4f}, Val Loss: {avg_val_loss:.4f}\")\n",
    "\n",
    "    return train_losses, val_losses\n",
    "\n",
    "# def train_one_epoch(model, train_loader, criterion, optimizer, device):\n",
    "#     model.train()\n",
    "#     running_loss = 0.0\n",
    "# \n",
    "#     for acc, gyro, labels in train_loader:\n",
    "#         acc, gyro, labels = acc.to(device), gyro.to(device), labels.to(device)\n",
    "# \n",
    "#         # Forward pass\n",
    "#         optimizer.zero_grad()\n",
    "#         outputs = model(acc, gyro)\n",
    "# \n",
    "#         # Compute loss\n",
    "#         loss = criterion(outputs, labels)\n",
    "# \n",
    "#         # Backward pass and optimization\n",
    "#         loss.backward()\n",
    "#         optimizer.step()\n",
    "# \n",
    "#         running_loss += loss.item()\n",
    "# \n",
    "#     # Average training loss\n",
    "#     return running_loss / len(train_loader)\n",
    "# \n",
    "# \n",
    "# def validate_one_epoch(model, test_loader, criterion, device):\n",
    "#     model.eval()\n",
    "#     val_loss = 0.0\n",
    "# \n",
    "#     with torch.no_grad():\n",
    "#         for acc, gyro, labels in test_loader:\n",
    "#             acc, gyro, labels = acc.to(device), gyro.to(device), labels.to(device)\n",
    "# \n",
    "#             # Forward pass\n",
    "#             outputs = model(acc, gyro)\n",
    "# \n",
    "#             # Compute loss\n",
    "#             loss = criterion(outputs, labels)\n",
    "#             val_loss += loss.item()\n",
    "# \n",
    "#     # Average validation loss\n",
    "#     return val_loss / len(test_loader)\n",
    "# \n",
    "# \n",
    "# def train_model(model, train_loader, test_loader, criterion, optimizer, scheduler, num_epochs, device):\n",
    "#     train_losses = []\n",
    "#     val_losses = []\n",
    "# \n",
    "#     for epoch in tqdm(range(num_epochs), desc=\"Training Progress\"):\n",
    "#         # Train and validate for one epoch\n",
    "#         avg_train_loss = train_one_epoch(model, train_loader, criterion, optimizer, device)\n",
    "#         avg_val_loss = validate_one_epoch(model, test_loader, criterion, device)\n",
    "# \n",
    "#         # Update learning rate using scheduler\n",
    "#         if scheduler:\n",
    "#             scheduler.step(avg_val_loss)\n",
    "# \n",
    "#         # Store losses\n",
    "#         train_losses.append(avg_train_loss)\n",
    "#         val_losses.append(avg_val_loss)\n",
    "# \n",
    "#         # Logging progress every 20 epochs\n",
    "#         if (epoch + 1) % 20 == 0 or epoch == num_epochs - 1:\n",
    "#             print(f\"Epoch {epoch + 1}/{num_epochs}, Train Loss: {avg_train_loss:.4f}, Val Loss: {avg_val_loss:.4f}\")\n",
    "# \n",
    "#     return train_losses, val_losses\n",
    "\n",
    "\n",
    "def test_model(model, test_loader, device, label_encoder):\n",
    "    model.eval()\n",
    "    correct = 0\n",
    "    total = 0\n",
    "    all_preds = []\n",
    "    all_labels = []\n",
    "\n",
    "    with torch.no_grad():\n",
    "        for acc, gyro, labels in test_loader:\n",
    "            acc, gyro, labels = acc.to(device), gyro.to(device), labels.to(device)\n",
    "            outputs = model(acc, gyro)\n",
    "            _, predicted = torch.max(outputs, 1)\n",
    "            total += labels.size(0)\n",
    "            correct += (predicted == labels).sum().item()\n",
    "\n",
    "            all_preds.extend(predicted.cpu().numpy())\n",
    "            all_labels.extend(labels.cpu().numpy())\n",
    "\n",
    "    accuracy = correct / total\n",
    "    print(f\"Test Accuracy: {accuracy * 100:.2f}%\")\n",
    "\n",
    "    # Compute confusion matrix\n",
    "    cm = confusion_matrix(all_labels, all_preds)\n",
    "\n",
    "    # Create a larger figure for the confusion matrix\n",
    "    plt.figure(figsize=(12, 8))  # Set the size to 12x8 inches\n",
    "    disp = ConfusionMatrixDisplay(confusion_matrix=cm, display_labels=label_encoder.classes_)\n",
    "    disp.plot(cmap=plt.cm.Blues, ax=plt.gca())  # Use plt.gca() to apply the size settings\n",
    "    plt.title(\"Confusion Matrix\")\n",
    "    plt.show()\n",
    "\n",
    "\n",
    "def plot_loss(train_losses, val_losses):\n",
    "    plt.figure(figsize=(10, 6))\n",
    "    plt.plot(train_losses, label=\"Training Loss\")\n",
    "    plt.plot(val_losses, label=\"Validation Loss\")\n",
    "    plt.xlabel(\"Epoch\")\n",
    "    plt.ylabel(\"Loss\")\n",
    "    plt.title(\"Training and Validation Loss\")\n",
    "    plt.legend()\n",
    "    plt.grid(True)\n",
    "    plt.show()\n"
   ]
  },
  {
   "cell_type": "code",
   "execution_count": 7,
   "id": "6005d714-a0db-4b9a-8d32-9019be05b865",
   "metadata": {},
   "outputs": [],
   "source": [
    "INPUT_DIMENSION = 144\n",
    "NUM_AXIS = 3\n",
    "LEARNING_RATE = 0.001\n",
    "WEIGHT_DECAY = 1e-4\n",
    "NUM_EPOCHS = 100"
   ]
  },
  {
   "cell_type": "code",
   "execution_count": 8,
   "id": "892b68b0-cf83-4514-bdc1-5012527021f4",
   "metadata": {},
   "outputs": [
    {
     "name": "stdout",
     "output_type": "stream",
     "text": [
      "Dataset Shape: (32036, 3)\n",
      "Using device: cuda\n"
     ]
    },
    {
     "name": "stderr",
     "output_type": "stream",
     "text": [
      "Training Progress:  20%|██        | 20/100 [00:54<03:28,  2.61s/it]"
     ]
    },
    {
     "name": "stdout",
     "output_type": "stream",
     "text": [
      "Epoch 20/100, Train Loss: 0.6280, Val Loss: 0.6618\n"
     ]
    },
    {
     "name": "stderr",
     "output_type": "stream",
     "text": [
      "Training Progress:  40%|████      | 40/100 [01:48<02:46,  2.78s/it]"
     ]
    },
    {
     "name": "stdout",
     "output_type": "stream",
     "text": [
      "Epoch 40/100, Train Loss: 0.5209, Val Loss: 0.5351\n"
     ]
    },
    {
     "name": "stderr",
     "output_type": "stream",
     "text": [
      "Training Progress:  60%|██████    | 60/100 [02:43<01:50,  2.76s/it]"
     ]
    },
    {
     "name": "stdout",
     "output_type": "stream",
     "text": [
      "Epoch 60/100, Train Loss: 0.4715, Val Loss: 0.5612\n"
     ]
    },
    {
     "name": "stderr",
     "output_type": "stream",
     "text": [
      "Training Progress:  79%|███████▉  | 79/100 [03:34<00:56,  2.67s/it]"
     ]
    },
    {
     "name": "stdout",
     "output_type": "stream",
     "text": [
      "Epoch 00079: reducing learning rate of group 0 to 5.0000e-04.\n"
     ]
    },
    {
     "name": "stderr",
     "output_type": "stream",
     "text": [
      "Training Progress:  80%|████████  | 80/100 [03:37<00:55,  2.76s/it]"
     ]
    },
    {
     "name": "stdout",
     "output_type": "stream",
     "text": [
      "Epoch 80/100, Train Loss: 0.4176, Val Loss: 0.5585\n"
     ]
    },
    {
     "name": "stderr",
     "output_type": "stream",
     "text": [
      "Training Progress:  90%|█████████ | 90/100 [04:04<00:26,  2.62s/it]"
     ]
    },
    {
     "name": "stdout",
     "output_type": "stream",
     "text": [
      "Epoch 00090: reducing learning rate of group 0 to 2.5000e-04.\n"
     ]
    },
    {
     "name": "stderr",
     "output_type": "stream",
     "text": [
      "Training Progress: 100%|██████████| 100/100 [04:30<00:00,  2.71s/it]"
     ]
    },
    {
     "name": "stdout",
     "output_type": "stream",
     "text": [
      "Epoch 100/100, Train Loss: 0.3789, Val Loss: 0.5933\n"
     ]
    },
    {
     "name": "stderr",
     "output_type": "stream",
     "text": [
      "\n"
     ]
    },
    {
     "data": {
      "image/png": "[encoded data removed]",
      "text/plain": [
       "<Figure size 720x432 with 1 Axes>"
      ]
     },
     "metadata": {
      "needs_background": "light"
     },
     "output_type": "display_data"
    },
    {
     "name": "stdout",
     "output_type": "stream",
     "text": [
      "Test Accuracy: 79.40%\n"
     ]
    },
    {
     "data": {
      "image/png": "[encoded data removed]",
      "text/plain": [
       "<Figure size 864x576 with 2 Axes>"
      ]
     },
     "metadata": {
      "needs_background": "light"
     },
     "output_type": "display_data"
    }
   ],
   "source": [
    "pickle_file_path = './dataset/phone_data.pkl'\n",
    "df, label_encoder = load_data(pickle_file_path)\n",
    "\n",
    "print(f\"Dataset Shape: {df.shape}\")\n",
    "\n",
    "# Create datasets and dataloaders\n",
    "dataset = SensorDataset(df)\n",
    "train_size = int(0.8 * len(dataset))\n",
    "test_size = len(dataset) - train_size\n",
    "train_dataset, test_dataset = torch.utils.data.random_split(dataset, [train_size, test_size])\n",
    "\n",
    "train_loader = DataLoader(train_dataset, batch_size=128, shuffle=True, num_workers=4)\n",
    "test_loader = DataLoader(test_dataset, batch_size=128, shuffle=False, num_workers=4)\n",
    "\n",
    "# Check for GPU availability\n",
    "device = torch.device(\"cuda\" if torch.cuda.is_available() else \"cpu\")\n",
    "print(f\"Using device: {device}\")\n",
    "\n",
    "# Initialize model, loss, and optimizer\n",
    "model = DeepSenseModel(input_dims=INPUT_DIMENSION, num_axis=NUM_AXIS, num_classes=len(df['label'].unique()))\n",
    "model.to(device)  # Move model to GPU if available\n",
    "\n",
    "criterion = nn.CrossEntropyLoss()\n",
    "optimizer = torch.optim.Adam(model.parameters(), lr=LEARNING_RATE, weight_decay=WEIGHT_DECAY)\n",
    "scheduler = torch.optim.lr_scheduler.ReduceLROnPlateau(\n",
    "    optimizer, mode='min', factor=0.5, patience=10, verbose=True\n",
    ")\n",
    "\n",
    "# Train the model\n",
    "train_losses, val_losses = train_model(\n",
    "    model, train_loader, test_loader, criterion, optimizer, scheduler, num_epochs=NUM_EPOCHS, device=device\n",
    ")\n",
    "\n",
    "# Plot the training and validation loss\n",
    "plot_loss(train_losses, val_losses)\n",
    "\n",
    "# Test the model and visualize confusion matrix\n",
    "test_model(model, test_loader, device=device, label_encoder=label_encoder)"
   ]
  }
 ],
 "metadata": {
  "kernelspec": {
   "name": "python3",
   "language": "python",
   "display_name": "Python 3 (ipykernel)"
  },
  "language_info": {
   "codemirror_mode": {
    "name": "ipython",
    "version": 3
   },
   "file_extension": ".py",
   "mimetype": "text/x-python",
   "name": "python",
   "nbconvert_exporter": "python",
   "pygments_lexer": "ipython3",
   "version": "3.9.9"
  }
 },
 "nbformat": 4,
 "nbformat_minor": 5
}
